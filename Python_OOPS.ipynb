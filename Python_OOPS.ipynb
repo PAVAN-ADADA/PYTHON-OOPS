{
  "nbformat": 4,
  "nbformat_minor": 0,
  "metadata": {
    "colab": {
      "provenance": []
    },
    "kernelspec": {
      "name": "python3",
      "display_name": "Python 3"
    },
    "language_info": {
      "name": "python"
    }
  },
  "cells": [
    {
      "cell_type": "markdown",
      "source": [
        "1. What is Object-Oriented Programming (OOP).\n",
        "\n",
        "   => OOPs is a way of organizing code that uses objects and classes to represent real-world entities and their behavior. In OOPs, object has attributes thing that has specific data and can perform certain actions using methods.\n",
        "  By understanding the core OOP principles (classes, objects, inheritance, encapsulation, polymorphism, and abstraction), programmers can leverage the full potential of Python OOP capabilities to design elegant and efficient solutions to complex problems.\n",
        "\n",
        "\n",
        "2. What is a class in OOP.?\n",
        "\n",
        " =>  A class is a collection of objects. Classes are blueprints for creating objects. A class defines a set of attributes and methods that the created objects (instances) can have.\n",
        "  Classes are created by keyword class.\n",
        " Attributes are the variables that belong to a class.\n",
        " Attributes are always public and can be accessed using the dot (.) operator. Example: Myclass.Myattribute\n",
        "\n",
        "3. What is an object in OOP.?\n",
        "\n",
        " => An Object is an instance of a Class. It represents a specific implementation of the class and holds its own data.\n",
        "\n",
        " An object consists of:\n",
        "\n",
        " State: It is represented by the attributes and reflects the properties of an object.\n",
        "Behavior: It is represented by the methods of an object and reflects the response of an object to other objects.\n",
        "Identity: It gives a unique name to an object and enables one object to interact with other objects.\n",
        "\n",
        "4. What is the difference between abstraction and encapsulation.?\n",
        "\n",
        " => Abstraction and encapsulation are fundamental concepts in object-oriented programming (OOP), and while they often work together, they serve different purposes.\n",
        " Key Differences Between Encapsulation and Abstraction\n",
        "Encapsulation is the practice of bundling data and methods within a single unit, like a class, and controlling their access, whereas abstraction is about hiding complex implementation details and exposing only the essential functionalities.\n",
        "\n",
        "5. What are dunder methods in Python.?\n",
        "\n",
        " => Dunder methods, also known as magic methods, are special methods in Python that start and end with double underscores (e.g., __init__, __str__, __len__). They enable classes to interact with Python's built-in functions and operators.\n",
        "Here's a breakdown:\n",
        "Purpose:\n",
        "Operator Overloading:\n",
        "They allow you to define how operators (like +, -, ==, <, >, etc.) behave with objects of your custom classes.\n",
        "Built-in Function Integration:\n",
        "They enable your objects to work seamlessly with built-in functions (like print(), len(), iter(), etc.).\n",
        "Custom Behavior:\n",
        "They allow you to customize how your class instances behave in various contexts.\n",
        "\n",
        "\n",
        " 6. Explain the concept of inheritance in OOP.\n",
        "\n",
        " => Inheritance in Object-Oriented Programming (OOP) is a mechanism where a new class (child class or derived class) inherits attributes and methods from an existing class (parent class or base class). This allows for code reusability and promotes a hierarchical class structure. Essentially, a child class \"is a\" version of its parent class.\n",
        "\n",
        "  *Key Concepts:\n",
        "\n",
        "   Parent Class (Base Class/Superclass): The class from which attributes and methods are inherited.\n",
        "\n",
        "   Child Class (Derived Class/Subclass): The class that inherits from a parent class.\n",
        "\n",
        "   Inheritance: The process of a child class inheriting attributes and methods from a parent class.\n",
        "\n",
        "7. What is polymorphism in OOP.?\n",
        "\n",
        "   polymorphism allows objects of different classes to be treated as objects of a common superclass, or interface, allowing them to respond to the same method call in their own unique ways. This enables code reuse, flexibility, and adaptability.\n",
        "\n",
        "   In OOP, polymorphism is often achieved through inheritance and method overriding/overloading.\n",
        "\n",
        "\n",
        "  8. How is encapsulation achieved in Python.?\n",
        "\n",
        "  Encapsulation in Python is achieved by bundling data (attributes) and methods that operate on that data within a class. It is a way to restrict direct access to some components of an object and control how they can be modified.\n",
        "Python does not have explicit access modifiers like public, private, and protected found in other languages. Instead, it uses naming conventions:\n",
        "\n",
        " Public Members:\n",
        "Attributes and methods are public by default. They can be accessed from anywhere.\n",
        "\n",
        " Protected Members:\n",
        "A single underscore prefix (e.g., _attribute) indicates that an attribute or method is intended for internal use within the class and its subclasses. While still accessible from outside, it signals that it should be treated as non-public.\n",
        "\n",
        " Private Members:\n",
        "A double underscore prefix (e.g., __attribute) triggers name mangling. This makes the attribute or method more difficult to access directly from outside the class, although it's not truly private.\n",
        "\n",
        "\n",
        "9. What is a constructor in Python.?\n",
        "\n",
        " A constructor is a special method used to initialize objects of a class. It is automatically called when an object is created. The primary purpose of a constructor is to set up the initial state of an object by assigning values to its attributes.\n",
        "The constructor in Python is named __init__. This method is automatically invoked when you create an instance of a class. It allows you to define the initial values of the object's attributes.\n",
        "\n",
        "10. What are class and static methods in Python.?\n",
        "\n",
        " => Class Methods:\n",
        "\n",
        " Class methods are bound to the class and not the instance of the class.\n",
        "They receive the class itself as the first argument, conventionally named cls.\n",
        "They can access and modify the class state (class variables).\n",
        "They are often used as factory methods to create instances of the class in different ways.\n",
        "They are defined using the @classmethod decorator.\n",
        "\n",
        " Static Methods:\n",
        "Static methods are also bound to the class and not the instance of the class.\n",
        "They do not receive the class or instance as the first argument.\n",
        "They cannot access or modify the class or instance state.\n",
        "They are used for utility functions that are related to the class but do not need access to its data.\n",
        "They are defined using the @staticmethod decorator.\n",
        "\n",
        "11. What is method overloading in Python.\n",
        "\n",
        " => if you define multiple methods with the same name, the last defined method will override the previous ones. To achieve similar functionality, Python uses techniques like default arguments and variable-length arguments.\n",
        "How Method Overloading is Achieved in Python:\n",
        "Default Arguments:\n",
        "You can define a method with default values for some parameters. If you call the method without providing values for those parameters, the default values will be used.\n",
        "Variable-Length Arguments:\n",
        "You can use *args (for positional arguments) and **kwargs (for keyword arguments) in the method definition to accept a variable number of arguments.\n",
        "\n",
        "12. What is method overriding in OOP.\n",
        "\n",
        " =>Method overriding is an ability of any object-oriented programming language that allows a subclass or child class to provide a specific implementation of a method that is already provided by one of its super-classes or parent classes. When a method in a subclass has the same name, the same parameters or signature, and same return type(or sub-type) as a method in its super-class, then the method in the subclass is said to override the method in the super-class.\n",
        "\n",
        "13. What is a property decorator in Python.\n",
        "\n",
        " => a property decorator is a built-in feature that allows you to manage how attributes of a class are accessed and modified. It provides a way to define special methods that act like attributes, giving you more control over attribute access.\n",
        " Key features and functionalities:\n",
        "\n",
        " Getter: It allows you to retrieve the value of an attribute using a method.\n",
        "\n",
        " Setter: It enables you to set or modify the value of an attribute using a method.\n",
        "\n",
        " Deleter: It allows you to delete an attribute using a method.\n",
        "\n",
        "14. Why is polymorphism important in OOP.\n",
        "\n",
        "  => Polymorphism is crucial in OOP because it enables code reuse, flexibility, and maintainability. It allows different objects to share the same interface while having their own specific behaviors. This is achieved through inheritance, where subclasses inherit from a superclass or base class, and can then implement methods in a way that's unique to them.\n",
        "\n",
        "15. What is an abstract class in Python.?\n",
        "\n",
        " => an abstract class is a class that cannot be instantiated directly. It serves as a blueprint for other classes, defining methods that must be implemented by any concrete subclass.\n",
        "\n",
        " Cannot be instantiated: You cannot create objects directly from an abstract class.\n",
        "\n",
        " Blueprint for subclasses: It defines a common interface for a group of related classes.\n",
        "\n",
        "16. What are the advantages of OOP.?\n",
        "\n",
        " => Object-oriented programming (OOP) offers numerous advantages over other programming paradigms, including enhanced code organization, reusability, and maintainability. It facilitates modularity, making code easier to understand, debug, and modify. OOP also promotes code reuse through inheritance and polymorphism, leading to increased efficiency and productivity.\n",
        "\n",
        " Modularity:\n",
        "OOP breaks down complex systems into smaller, manageable units called objects, which encapsulate data and methods, making it easier to manage and debug.\n",
        "\n",
        " Reusability:\n",
        "OOP promotes code reuse through inheritance, where child classes can inherit properties and behaviors from parent classes, saving time and effort.\n",
        "\n",
        " Maintainability:\n",
        "OOP's modular structure and encapsulation principles make it easier to modify and maintain code, as changes in one object are less likely to affect others.\n",
        "\n",
        " Scalability:\n",
        "OOP's ability to handle complex systems and large projects with ease makes it a suitable choice for developing large-scale applications.\n",
        "\n",
        " Flexibility:\n",
        "OOP's polymorphism feature allows objects to take on multiple forms, enabling flexible and adaptable solutions.\n",
        "\n",
        "17. What is the difference between a class variable and an instance variable.?\n",
        "\n",
        " => a class variable (also known as a static variable) is shared by all instances (objects) of a class, while an instance variable is unique to each instance.\n",
        "\n",
        " Class Variable (Static Variable):\n",
        "Shared across instances:\n",
        "A single copy of a class variable exists for the entire class, and all instances of that class can access and modify it.\n",
        "Declared with the static keyword:\n",
        "In many programming languages, including Java and C++, you declare a class variable using the static keyword.\n",
        "Purpose:\n",
        "Class variables are often used to store data that is common to all instances, such as a counter for the number of objects created or a constant value used across the class.\n",
        "\n",
        " Instance Variable:\n",
        "Unique to each instance:\n",
        "Each instance of a class has its own independent copy of an instance variable.\n",
        "Declared without the static keyword:\n",
        "In Java and C++, instance variables are typically declared without the static keyword.\n",
        "Purpose:\n",
        "Instance variables store data that is specific to each individual object, such as a Person's name, age, or address.\n",
        "\n",
        "18. What is multiple inheritance in Python.?\n",
        "\n",
        "  => Multiple inheritance in Python is a feature where a class can inherit attributes and methods from more than one parent class. This allows a child class to combine the functionalities of multiple base classes.\n",
        " Key Concepts:\n",
        "\n",
        " Base Classes: The classes from which a child class inherits.\n",
        "\n",
        " Derived Class: The child class that inherits from one or more base classes.\n",
        "\n",
        " Method Resolution Order (MRO): The order in which Python searches for methods in the inheritance hierarchy. This is typically done using a depth-first, left-to-right approach.\n",
        "\n",
        "19. Explain the purpose of ‘’__str__’ and ‘__repr__’ ‘ methods in Python.\n",
        "\n",
        " => the __str__ and __repr__ methods are special methods used to define how objects are represented as strings. They are called \"dunder\" methods because of the double underscores before and after their names.\n",
        "\n",
        " __str__: This method is intended to provide a human-readable, or informal, string representation of an object. It's primarily used when you want to display the object to an end-user, such as when using the print() function or the str() function. The goal is to provide an easily understandable description of the object's state. If __str__ is not defined for a class, Python will fall back to using __repr__ instead.\n",
        "\n",
        " __repr__: This method is intended to provide an unambiguous, or official, string representation of an object. It's primarily used for debugging, logging, and object inspection. The ideal output of __repr__ is a string that, when passed to the eval() function, would recreate the original object. However, this is not always possible or necessary. The goal is to provide a detailed description of the object's state that is useful for developers.\n",
        "\n",
        "20. What is the significance of the ‘super()’ function in Python.?\n",
        "\n",
        " => The super() function in Python is a built-in function that allows a subclass to access and invoke methods or attributes from its parent class. It is primarily used within the context of inheritance in object-oriented programming.\n",
        "\n",
        "  Accessing Parent Class Methods:\n",
        "super() provides a way to call methods defined in the parent class from within the subclass. This is particularly useful when you want to extend or modify the behavior of the parent class method in the subclass, while still leveraging the original implementation.\n",
        "It avoids the need to explicitly name the parent class, making the code more flexible and maintainable.\n",
        "\n",
        "21. What is the significance of the __del__ method in Python.?\n",
        "\n",
        " => The __del__ method in Python is a special method, also known as a destructor. It is automatically called when an object is about to be destroyed, typically when it's no longer referenced and is being garbage collected.\n",
        "\n",
        " Resource Cleanup:\n",
        " The primary purpose of __del__ is to release external resources held by an object. Examples include closing file handles, network connections, or releasing memory allocated outside of Python's memory management.\n",
        "\n",
        " Automatic Invocation:\n",
        " Python's garbage collector calls __del__ automatically when an object's reference count drops to zero. This means you don't explicitly call it like a regular method\n",
        "\n",
        "22. What is the difference between @staticmethod and @classmethod in Python.?\n",
        "\n",
        "  => @staticmethod\n",
        "A static method is a method that belongs to the class but does not have access to the class instance or its attributes.\n",
        "It is essentially a utility function that is grouped within a class for organizational purposes.\n",
        "It does not receive the class instance as the first argument.\n",
        "It is called directly on the class itself, without the need to create an instance of the class.\n",
        "It is useful when you have a function that is logically related to the class but does not need to access any specific instance or class attributes.\n",
        "\n",
        "  @classmethod\n",
        "\n",
        "  A class method is a method that is bound to the class and not the instance of the class.\n",
        "It receives the class itself as the first argument (usually named cls).\n",
        "It can access and modify the class attributes.\n",
        "It can be called directly on the class itself, without the need to create an instance of the class.\n",
        "It is useful when you need to create factory methods or manipulate class-level attributes.\n",
        "\n",
        "23. How does polymorphism work in Python with inheritance.\n",
        "\n",
        "  => Polymorphism, meaning \"many forms,\" allows objects of different classes to respond to the same method call in their own specific ways. In Python, this is commonly achieved through inheritance and method overriding.\n",
        "How it works:\n",
        "Inheritance: A child class inherits attributes and methods from a parent class.\n",
        "Method Overriding: A child class can redefine a method inherited from its parent class. This allows the child class to provide its own implementation of the method, while keeping the same method name.\n",
        "Polymorphic Behavior: When a method is called on an object, Python determines at runtime which version of the method to execute based on the object's actual type. If a child class has overridden the method, its version will be called; otherwise, the parent class's version will be used.\n",
        "\n",
        "24. What is method chaining in Python OOP.\n",
        "\n",
        " => Method chaining in Python is a programming technique that allows you to call multiple methods on an object in a single line of code. Each method in the chain returns the object itself, allowing the next method to be called on the result. This can make your code more concise and readable.\n",
        "To implement method chaining, each method in the class should return self after performing its action. This allows the next method in the chain to be called on the same object.\n",
        "\n",
        "25. What is the purpose of the __call__ method in Python?\n",
        "\n",
        " => The __call__ method in Python allows instances of a class to be called as if they were functions. When an instance of a class is called, Python executes the code defined within the __call__ method.\n",
        "This mechanism provides a way to create callable objects, enabling more flexible and reusable code. It's particularly useful when you need an object to behave like a function.\n",
        "\n",
        "  Implementing function-like behavior:\n",
        "When you want to encapsulate state within an object but still want to invoke an action on it similar to a function call, __call__ is the way to go.\n",
        "\n",
        "  Implementing callbacks:\n",
        "Objects with a __call__ method can be used as callbacks, allowing you to execute code when certain events occur."
      ],
      "metadata": {
        "id": "0jx1QnhRXSwy"
      }
    },
    {
      "cell_type": "code",
      "source": [
        "# Practical Questions\n",
        "\n",
        "# 1. Create a parent class Animal with a method speak() that prints a generic message. Create a child class Dog that overrides the speak() method to print \"Bark!\".\n",
        "\n",
        "class Animal:\n",
        "    def speak(self):\n",
        "        print(\"Generic animal sound\")\n",
        "\n",
        "class Dog(Animal):\n",
        "    def speak(self):\n",
        "        print(\"Bark!\")\n",
        "\n",
        "# Create an instance of the Dog class and call the speak() method\n",
        "dog = Dog()\n",
        "dog.speak()"
      ],
      "metadata": {
        "id": "cCaexr7SzLsR",
        "colab": {
          "base_uri": "https://localhost:8080/"
        },
        "outputId": "d835b920-de11-4607-d59e-0bccacb31489"
      },
      "execution_count": 1,
      "outputs": [
        {
          "output_type": "stream",
          "name": "stdout",
          "text": [
            "Bark!\n"
          ]
        }
      ]
    },
    {
      "cell_type": "code",
      "source": [
        "# 2.  Write a program to create an abstract class Shape with a method area(). Derive classes Circle and Rectangle from it and implement the area() method in both.\n",
        "\n",
        "from abc import ABC, abstractmethod\n",
        "import math\n",
        "\n",
        "# Abstract base class\n",
        "class Shape(ABC):\n",
        "    @abstractmethod\n",
        "    def area(self):\n",
        "        pass\n",
        "\n",
        "\n",
        "# Derived class: Circle\n",
        "class Circle(Shape):\n",
        "    def __init__(self, radius):\n",
        "        self.radius = radius\n",
        "\n",
        "    def area(self):\n",
        "        return math.pi * self.radius ** 2\n",
        "\n",
        "\n",
        "# Derived class: Rectangle\n",
        "class Rectangle(Shape):\n",
        "    def __init__(self, width, height):\n",
        "        self.width = width\n",
        "        self.height = height\n",
        "\n",
        "    def area(self):\n",
        "        return self.width * self.height\n",
        "\n",
        "\n",
        "# Example usage\n",
        "if __name__ == \"__main__\":\n",
        "    circle = Circle(5)\n",
        "    rectangle = Rectangle(4, 6)\n",
        "\n",
        "    print(f\"Circle Area: {circle.area():.2f}\")\n",
        "    print(f\"Rectangle Area: {rectangle.area():.2f}\")\n",
        "\n",
        "\n"
      ],
      "metadata": {
        "colab": {
          "base_uri": "https://localhost:8080/"
        },
        "id": "IdfOwjziifgy",
        "outputId": "140dc01d-0fa2-418a-9812-4314f4bc6a9d"
      },
      "execution_count": 3,
      "outputs": [
        {
          "output_type": "stream",
          "name": "stdout",
          "text": [
            "Area of circle: 78.53981633974483\n",
            "Area of rectangle: 24\n"
          ]
        }
      ]
    },
    {
      "cell_type": "code",
      "source": [
        "# 3. Implement a multi-level inheritance scenario where a class Vehicle has an attribute type. Derive a class Car and further derive a class ElectricCar that adds a battery attribute.\n",
        "\n",
        "class Vehicle:\n",
        "    \"\"\"Base class representing a vehicle.\"\"\"\n",
        "    def __init__(self, type):\n",
        "        self.type = type\n",
        "\n",
        "    def get_type(self):\n",
        "        return self.type\n",
        "\n",
        "class Car(Vehicle):\n",
        "    \"\"\"Derived class representing a car.\"\"\"\n",
        "    def __init__(self, type, model):\n",
        "        super().__init__(type)  # Call the parent class's __init__\n",
        "        self.model = model\n",
        "\n",
        "    def get_model(self):\n",
        "        return self.model\n",
        "\n",
        "class ElectricCar(Car):\n",
        "    \"\"\"Derived class representing an electric car.\"\"\"\n",
        "    def __init__(self, type, model, battery_capacity):\n",
        "        super().__init__(type, model)  # Call the parent class's __init__\n",
        "        self.battery_capacity = battery_capacity\n",
        "\n",
        "    def get_battery_capacity(self):\n",
        "        return self.battery_capacity\n",
        "\n",
        "# Example usage:\n",
        "my_vehicle = Vehicle(\"Generic\")\n",
        "print(f\"Vehicle type: {my_vehicle.get_type()}\")\n",
        "\n",
        "my_car = Car(\"Car\", \"Sedan\")\n",
        "print(f\"Car type: {my_car.get_type()}\")\n",
        "print(f\"Car model: {my_car.get_model()}\")\n",
        "\n",
        "my_electric_car = ElectricCar(\"Electric Car\", \"TATA\", 150)\n",
        "print(f\"Electric Car type: {my_electric_car.get_type()}\")\n",
        "print(f\"Electric Car model: {my_electric_car.get_model()}\")\n",
        "print(f\"Electric Car battery capacity: {my_electric_car.get_battery_capacity()} kWh\")"
      ],
      "metadata": {
        "colab": {
          "base_uri": "https://localhost:8080/"
        },
        "id": "CupoAlAJjc5h",
        "outputId": "e38431e5-21fa-455f-852c-13d92b662a23"
      },
      "execution_count": 5,
      "outputs": [
        {
          "output_type": "stream",
          "name": "stdout",
          "text": [
            "Vehicle type: Generic\n",
            "Car type: Car\n",
            "Car model: Sedan\n",
            "Electric Car type: Electric Car\n",
            "Electric Car model: TATA\n",
            "Electric Car battery capacity: 150 kWh\n"
          ]
        }
      ]
    },
    {
      "cell_type": "code",
      "source": [
        " # 4.Demonstrate polymorphism by creating a base class Bird with a method fly(). Create two derived classes Sparrow and Penguin that override the fly() method.\n",
        "\n",
        " class Bird:\n",
        "    def fly(self):\n",
        "        print(\"Generic bird flight\")\n",
        "\n",
        "class Sparrow(Bird):\n",
        "    def fly(self):\n",
        "        print(\"Sparrow is flying\")\n",
        "\n",
        "class Penguin(Bird):\n",
        "    def fly(self):\n",
        "        print(\"Penguin cannot fly, but can swim\")\n",
        "\n",
        "def make_bird_fly(bird):\n",
        "    bird.fly()\n",
        "\n",
        "bird = Bird()\n",
        "sparrow = Sparrow()\n",
        "penguin = Penguin()\n",
        "\n",
        "make_bird_fly(bird)\n",
        "make_bird_fly(sparrow)\n",
        "make_bird_fly(penguin)"
      ],
      "metadata": {
        "colab": {
          "base_uri": "https://localhost:8080/"
        },
        "id": "lA_MGjGlkHjW",
        "outputId": "253d4b90-70f6-4514-fc06-b91ca3fdda71"
      },
      "execution_count": 6,
      "outputs": [
        {
          "output_type": "stream",
          "name": "stdout",
          "text": [
            "Generic bird flight\n",
            "Sparrow is flying\n",
            "Penguin cannot fly, but can swim\n"
          ]
        }
      ]
    },
    {
      "cell_type": "code",
      "source": [
        "#5.Write a program to demonstrate encapsulation by creating a class BankAccount with private attributes balance and methods to deposit, withdraw, and check balance.\n",
        "\n",
        "class BankAccount:\n",
        "    def __init__(self, balance=0):\n",
        "        self.__balance = balance  # Private attribute\n",
        "\n",
        "    def deposit(self, amount):\n",
        "        if amount > 0:\n",
        "            self.__balance += amount\n",
        "        else:\n",
        "            print(\"Invalid deposit amount.\")\n",
        "\n",
        "    def withdraw(self, amount):\n",
        "        if 0 < amount <= self.__balance:\n",
        "            self.__balance -= amount\n",
        "        else:\n",
        "            print(\"Invalid withdrawal amount or insufficient balance.\")\n",
        "\n",
        "    def get_balance(self):\n",
        "        return self.__balance\n",
        "\n",
        "# Example usage\n",
        "account = BankAccount(2000)\n",
        "print(\"Initial balance:\", account.get_balance())\n",
        "\n",
        "account.deposit(600)\n",
        "print(\"Balance after deposit:\", account.get_balance())\n",
        "\n",
        "account.withdraw(300)\n",
        "print(\"Balance after withdrawal:\", account.get_balance())\n",
        "\n",
        "# Attempting to access private attribute directly will cause an error\n",
        "# print(account.__balance) # This line will cause an error"
      ],
      "metadata": {
        "colab": {
          "base_uri": "https://localhost:8080/"
        },
        "id": "2r1rx4-2kH0N",
        "outputId": "75b1e855-2ab5-48aa-f7b7-876122736248"
      },
      "execution_count": 8,
      "outputs": [
        {
          "output_type": "stream",
          "name": "stdout",
          "text": [
            "Initial balance: 2000\n",
            "Balance after deposit: 2600\n",
            "Balance after withdrawal: 2300\n"
          ]
        }
      ]
    },
    {
      "cell_type": "code",
      "source": [
        "# 6. Demonstrate runtime polymorphism using a method play() in a base class Instrument. Derive classes Guitar and Piano that implement their own version of play().\n",
        "\n",
        "class Instrument:\n",
        "    def play(self):\n",
        "        print(\"Playing a instrument\")\n",
        "\n",
        "class Guitar(Instrument):\n",
        "    def play(self):\n",
        "        print(\"Playing a guitar\")\n",
        "\n",
        "class Piano(Instrument):\n",
        "    def play(self):\n",
        "        print(\"Playing a piano\")\n",
        "\n",
        "# Create instances of different instruments\n",
        "instrument = Instrument()\n",
        "guitar = Guitar()\n",
        "piano = Piano()\n",
        "\n",
        "# Call the play() method on each instance\n",
        "instrument.play()  # Output: Playing a generic instrument\n",
        "guitar.play()      # Output: Playing a guitar\n",
        "piano.play()       # Output: Playing a piano\n",
        "\n",
        "# Demonstrate runtime polymorphism using a list\n",
        "instruments = [instrument, guitar, piano]\n",
        "for inst in instruments:\n",
        "    inst.play()"
      ],
      "metadata": {
        "colab": {
          "base_uri": "https://localhost:8080/"
        },
        "id": "-lPSNlowkH9o",
        "outputId": "89762ed8-09dc-4491-b2a0-50fcf0026f4e"
      },
      "execution_count": 10,
      "outputs": [
        {
          "output_type": "stream",
          "name": "stdout",
          "text": [
            "Playing a instrument\n",
            "Playing a guitar\n",
            "Playing a piano\n",
            "Playing a instrument\n",
            "Playing a guitar\n",
            "Playing a piano\n"
          ]
        }
      ]
    },
    {
      "cell_type": "code",
      "source": [
        "# 7.Create a class MathOperations with a class method add_numbers() to add two numbers and a static method subtract_numbers() to subtract two numbers.\n",
        "\n",
        "class MathOperations:\n",
        "    @classmethod\n",
        "    def add_numbers(cls, x, y):\n",
        "        return x + y\n",
        "\n",
        "    @staticmethod\n",
        "    def subtract_numbers(x, y):\n",
        "        return x - y\n",
        "\n",
        "# Using the class method\n",
        "result_add = MathOperations.add_numbers(5, 3)\n",
        "print(f\"Addition result: {result_add}\")\n",
        "# Using the static method\n",
        "result_sub = MathOperations.subtract_numbers(5, 3)\n",
        "print(f\"Subtraction result: {result_sub}\")"
      ],
      "metadata": {
        "colab": {
          "base_uri": "https://localhost:8080/"
        },
        "id": "MO3jUyYlkIA_",
        "outputId": "15adff89-d176-4acf-a915-4a531d12361a"
      },
      "execution_count": 12,
      "outputs": [
        {
          "output_type": "stream",
          "name": "stdout",
          "text": [
            "Addition result: 8\n",
            "Subtraction result: 2\n"
          ]
        }
      ]
    },
    {
      "cell_type": "code",
      "source": [
        "# 8.  Implement a class Person with a class method to count the total number of persons created.\n",
        "\n",
        "class Person:\n",
        "    # Class variable to keep track of the number of Person objects\n",
        "    person_count = 0\n",
        "\n",
        "    def __init__(self, name, age):\n",
        "        self.name = name\n",
        "        self.age = age\n",
        "        # Increment the class variable every time a new Person object is created\n",
        "        Person.person_count += 1\n",
        "\n",
        "    @classmethod\n",
        "    def get_total_persons(cls):\n",
        "        # Return the current value of the class variable\n",
        "        return cls.person_count\n",
        "\n",
        "# Example Usage\n",
        "person1 = Person(\"Ali\", 30)\n",
        "person2 = Person(\"Bobby\", 25)\n",
        "person3 = Person(\"Charlie\", 35)\n",
        "\n",
        "print(f\"Total number of persons: {Person.get_total_persons()}\")"
      ],
      "metadata": {
        "colab": {
          "base_uri": "https://localhost:8080/"
        },
        "id": "GEQH0iXSnAXf",
        "outputId": "377ffd7e-c5a3-4a7a-ac2c-08e060cf2721"
      },
      "execution_count": 13,
      "outputs": [
        {
          "output_type": "stream",
          "name": "stdout",
          "text": [
            "Total number of persons: 3\n"
          ]
        }
      ]
    },
    {
      "cell_type": "code",
      "source": [
        "# 9. Write a class Fraction with attributes numerator and denominator. Override the str method to display the fraction as \"numerator/denominator\".\n",
        "\n",
        "class Fraction:\n",
        "    def __init__(self, numerator, denominator):\n",
        "        self.numerator = numerator\n",
        "        self.denominator = denominator\n",
        "\n",
        "    def __str__(self):\n",
        "        return f\"{self.numerator}/{self.denominator}\"\n",
        "\n"
      ],
      "metadata": {
        "id": "Dlvn-YYWnAbJ"
      },
      "execution_count": 14,
      "outputs": []
    },
    {
      "cell_type": "code",
      "source": [
        "# 10. Demonstrate operator overloading by creating a class Vector and overriding the add method to add two vectors.\n",
        "\n",
        "class Vector:\n",
        "    def __init__(self, x, y):\n",
        "        self.x = x\n",
        "        self.y = y\n",
        "\n",
        "    def __add__(self, other):\n",
        "        return Vector(self.x + other.x, self.y + other.y)\n",
        "\n",
        "    def __repr__(self):\n",
        "        return f\"Vector({self.x}, {self.y})\"\n",
        "\n",
        "# Creating instances\n",
        "v1 = Vector(1, 2)\n",
        "v2 = Vector(3, 4)\n",
        "\n",
        "# Adding vectors using operator overloading\n",
        "result = v1 + v2\n",
        "print(result)  # Output: Vector(4, 6)"
      ],
      "metadata": {
        "colab": {
          "base_uri": "https://localhost:8080/"
        },
        "id": "VUPkrnomnAdk",
        "outputId": "f846dce1-d14f-4ff2-ba8a-1cb9a7ce13b4"
      },
      "execution_count": 15,
      "outputs": [
        {
          "output_type": "stream",
          "name": "stdout",
          "text": [
            "Vector(4, 6)\n"
          ]
        }
      ]
    },
    {
      "cell_type": "code",
      "source": [
        "#11.Create a class Person with attributes name and age. Add a method greet() that prints \"Hello, my name is {name} and I am {age} years old.\"\n",
        "\n",
        "class Person:\n",
        "    def __init__(self, name, age):\n",
        "        self.name = name\n",
        "        self.age = age\n",
        "\n",
        "    def greet(self):\n",
        "        print(f\"Hello, my name is {self.name} and I am {self.age} years old.\")\n",
        "\n",
        "# Example usage\n",
        "person1 = Person(\"Alice\", 30)\n",
        "person1.greet()\n",
        "\n",
        "person2 = Person(\"Bob\", 25)\n",
        "person2.greet()"
      ],
      "metadata": {
        "colab": {
          "base_uri": "https://localhost:8080/"
        },
        "id": "XsnpgaXJoe1d",
        "outputId": "a4a20a71-9e7f-4b6f-978b-038909ee306a"
      },
      "execution_count": 16,
      "outputs": [
        {
          "output_type": "stream",
          "name": "stdout",
          "text": [
            "Hello, my name is Alice and I am 30 years old.\n",
            "Hello, my name is Bob and I am 25 years old.\n"
          ]
        }
      ]
    },
    {
      "cell_type": "code",
      "source": [
        "#12.Implement a class Student with attributes name and grades. Create a method average_grade() to compute the average of the grades.\n",
        "\n",
        "class Student:\n",
        "    def __init__(self, name, grades):\n",
        "        self.name = name\n",
        "        self.grades = grades\n",
        "\n",
        "    def average_grade(self):\n",
        "        \"\"\"\n",
        "        Calculates the average of the student's grades.\n",
        "        \"\"\"\n",
        "        if not self.grades:  # Handle the case where the grades list is empty\n",
        "            return 0\n",
        "        return sum(self.grades) / len(self.grades)\n",
        "\n",
        "# Example usage:\n",
        "student1 = Student(\"Ajay\", [85, 92, 78, 95])\n",
        "average = student1.average_grade()\n",
        "print(f\"Student: {student1.name}, Average grade: {average}\")  # Output: Average grade: 87.25\n",
        "\n",
        "student2 = Student(\"jobin\", [70, 80, 90])\n",
        "average = student2.average_grade()\n",
        "print(f\"Student: {student2.name}, Average grade: {average}\") # Output: Average grade: 80.0\n",
        "\n",
        "student3 = Student(\"pavan\", []) # empty grades\n",
        "average = student3.average_grade()\n",
        "print(f\"Student: {student3.name}, Average grade: {average}\") # Output: Average grade: 0"
      ],
      "metadata": {
        "colab": {
          "base_uri": "https://localhost:8080/"
        },
        "id": "4XU4JhYKoe_w",
        "outputId": "9613afb1-d8a1-48e0-b08b-e965e8f9a9ac"
      },
      "execution_count": 17,
      "outputs": [
        {
          "output_type": "stream",
          "name": "stdout",
          "text": [
            "Student: Ajay, Average grade: 87.5\n",
            "Student: jobin, Average grade: 80.0\n",
            "Student: pavan, Average grade: 0\n"
          ]
        }
      ]
    },
    {
      "cell_type": "code",
      "source": [
        "#13 . Create a class Rectangle with methods set_dimensions() to set the dimensions and area() to calculate the area\n",
        "\n",
        "class Rectangle:\n",
        "    def __init__(self, width, height):\n",
        "        self.width = width\n",
        "        self.height = height\n",
        "\n",
        "    def set_dimensions(self, width, height):\n",
        "        self.width = width\n",
        "        self.height = height\n",
        "\n",
        "    def area(self):\n",
        "        return self.width * self.height"
      ],
      "metadata": {
        "id": "DX8r_e6wofDp"
      },
      "execution_count": 18,
      "outputs": []
    },
    {
      "cell_type": "code",
      "source": [
        "# 14. Create a class Employee with a method calculate_salary() that computes the salary based on hours worked and hourly rate. Create a derived class Manager that adds a bonus to the salary.\n",
        "\n",
        "# Base class: Employee\n",
        "class Employee:\n",
        "    def __init__(self, name, hours_worked, hourly_rate):\n",
        "        self.name = name\n",
        "        self.hours_worked = hours_worked\n",
        "        self.hourly_rate = hourly_rate\n",
        "\n",
        "    def calculate_salary(self):\n",
        "        salary = self.hours_worked * self.hourly_rate\n",
        "        return salary\n",
        "\n",
        "\n",
        "# Derived class: Manager\n",
        "class Manager(Employee):\n",
        "    def __init__(self, name, hours_worked, hourly_rate, bonus):\n",
        "        super().__init__(name, hours_worked, hourly_rate)\n",
        "        self.bonus = bonus\n",
        "\n",
        "    def calculate_salary(self):\n",
        "        base_salary = super().calculate_salary()\n",
        "        total_salary = base_salary + self.bonus\n",
        "        return total_salary\n",
        "\n",
        "\n",
        "# Example usage:\n",
        "if __name__ == \"__main__\":\n",
        "    emp = Employee(\"Alice\", 40, 20)\n",
        "    print(f\"{emp.name}'s Salary: rs.{emp.calculate_salary()}\")\n",
        "\n",
        "    mgr = Manager(\"Bob\", 40, 30, 500)\n",
        "    print(f\"{mgr.name}'s Salary (with bonus): rs.{mgr.calculate_salary()}\")\n"
      ],
      "metadata": {
        "colab": {
          "base_uri": "https://localhost:8080/"
        },
        "id": "5oMd4C_dofNZ",
        "outputId": "f4b59727-9b07-448e-ebb1-169a9611ced3"
      },
      "execution_count": 20,
      "outputs": [
        {
          "output_type": "stream",
          "name": "stdout",
          "text": [
            "Alice's Salary: rs.800\n",
            "Bob's Salary (with bonus): rs.1700\n"
          ]
        }
      ]
    },
    {
      "cell_type": "code",
      "source": [
        "#15.  Create a class Product with attributes name, price, and quantity. Implement a method total_price() that calculates the total price of the product.\n",
        "\n",
        "# Product class\n",
        "class Product:\n",
        "    def __init__(self, name, price, quantity):\n",
        "        self.name = name\n",
        "        self.price = price\n",
        "        self.quantity = quantity\n",
        "\n",
        "    def total_price(self):\n",
        "        return self.price * self.quantity\n",
        "\n",
        "\n",
        "# Example usage:\n",
        "if __name__ == \"__main__\":\n",
        "    product = Product(\"Laptop\", 800, 2)\n",
        "    print(f\"Product: {product.name}\")\n",
        "    print(f\"Unit Price: rs.{product.price}\")\n",
        "    print(f\"Quantity: {product.quantity}\")\n",
        "    print(f\"Total Price: rs.{product.total_price()}\")\n"
      ],
      "metadata": {
        "colab": {
          "base_uri": "https://localhost:8080/"
        },
        "id": "9e9QMhoEofQz",
        "outputId": "67d88624-2c7a-4d12-abbd-9f274aef4377"
      },
      "execution_count": 22,
      "outputs": [
        {
          "output_type": "stream",
          "name": "stdout",
          "text": [
            "Product: Laptop\n",
            "Unit Price: rs.800\n",
            "Quantity: 2\n",
            "Total Price: rs.1600\n"
          ]
        }
      ]
    },
    {
      "cell_type": "code",
      "source": [
        "#16.  Create a class Animal with an abstract method sound(). Create two derived classes Cow and Sheep that implement the sound() method.\n",
        "\n",
        "from abc import ABC, abstractmethod\n",
        "\n",
        "# Abstract base class\n",
        "class Animal(ABC):\n",
        "    @abstractmethod\n",
        "    def sound(self):\n",
        "        pass\n",
        "\n",
        "\n",
        "# Derived class: Cow\n",
        "class Cow(Animal):\n",
        "    def sound(self):\n",
        "        return \"Mooo\"\n",
        "\n",
        "\n",
        "# Derived class: Sheep\n",
        "class Sheep(Animal):\n",
        "    def sound(self):\n",
        "        return \"Baaa\"\n",
        "\n",
        "\n",
        "# Example usage:\n",
        "if __name__ == \"__main__\":\n",
        "    cow = Cow()\n",
        "    sheep = Sheep()\n",
        "\n",
        "    print(f\"Cow sound: {cow.sound()}\")\n",
        "    print(f\"Sheep sound: {sheep.sound()}\")\n"
      ],
      "metadata": {
        "colab": {
          "base_uri": "https://localhost:8080/"
        },
        "id": "9j9H8W5uqy3-",
        "outputId": "44dc8aa9-7d9b-420d-f610-e127df25bfba"
      },
      "execution_count": 24,
      "outputs": [
        {
          "output_type": "stream",
          "name": "stdout",
          "text": [
            "Cow sound: Mooo\n",
            "Sheep sound: Baaa\n"
          ]
        }
      ]
    },
    {
      "cell_type": "code",
      "source": [
        "# 17.  Create a class Book with attributes title, author, and year_published. Add a method get_book_info() that returns a formatted string with the book's details.\n",
        "\n",
        "# Book class\n",
        "class Book:\n",
        "    def __init__(self, title, author, year_published):\n",
        "        self.title = title\n",
        "        self.author = author\n",
        "        self.year_published = year_published\n",
        "\n",
        "    def get_book_info(self):\n",
        "        return f\"'{self.title}' by {self.author} (Published in {self.year_published})\"\n",
        "\n",
        "\n",
        "# Example usage:\n",
        "if __name__ == \"__main__\":\n",
        "    book = Book(\"A good person \", \"George Orwell\", 1991)\n",
        "    print(book.get_book_info())\n"
      ],
      "metadata": {
        "colab": {
          "base_uri": "https://localhost:8080/"
        },
        "id": "HOT27MCVqy8D",
        "outputId": "3313a02a-0319-4c20-8d79-e8694e4e44c7"
      },
      "execution_count": 27,
      "outputs": [
        {
          "output_type": "stream",
          "name": "stdout",
          "text": [
            "'A good person ' by George Orwell (Published in 1991)\n"
          ]
        }
      ]
    },
    {
      "cell_type": "code",
      "source": [
        "# 18. Create a class House with attributes address and price. Create a derived class Mansion that adds an attribute number_of_rooms.\n",
        "\n",
        "# Base class: House\n",
        "class House:\n",
        "    def __init__(self, address, price):\n",
        "        self.address = address\n",
        "        self.price = price\n",
        "\n",
        "    def get_info(self):\n",
        "        return f\"Address: {self.address}, Price: ${self.price}\"\n",
        "\n",
        "\n",
        "# Derived class: Mansion\n",
        "class Mansion(House):\n",
        "    def __init__(self, address, price, number_of_rooms):\n",
        "        super().__init__(address, price)\n",
        "        self.number_of_rooms = number_of_rooms\n",
        "\n",
        "    def get_info(self):\n",
        "        return f\"{super().get_info()}, Rooms: {self.number_of_rooms}\"\n",
        "\n",
        "\n",
        "# Example usage:\n",
        "if __name__ == \"__main__\":\n",
        "    house = House(\"123 Main St\", 250000)\n",
        "    print(house.get_info())\n",
        "\n",
        "    mansion = Mansion(\"1 Elite Blvd\", 300000, 12)\n",
        "    print(mansion.get_info())\n"
      ],
      "metadata": {
        "colab": {
          "base_uri": "https://localhost:8080/"
        },
        "id": "S2XLxaH-qzFQ",
        "outputId": "035ad6df-1dbc-4930-989d-5a85581fb5f6"
      },
      "execution_count": 29,
      "outputs": [
        {
          "output_type": "stream",
          "name": "stdout",
          "text": [
            "Address: 123 Main St, Price: $250000\n",
            "Address: 1 Elite Blvd, Price: $300000, Rooms: 12\n"
          ]
        }
      ]
    },
    {
      "cell_type": "code",
      "source": [],
      "metadata": {
        "id": "uZtMOHTTqzIy"
      },
      "execution_count": null,
      "outputs": []
    }
  ]
}